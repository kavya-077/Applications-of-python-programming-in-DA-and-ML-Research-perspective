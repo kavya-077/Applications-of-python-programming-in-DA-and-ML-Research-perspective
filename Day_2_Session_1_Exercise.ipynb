{
  "nbformat": 4,
  "nbformat_minor": 0,
  "metadata": {
    "colab": {
      "name": "Day 2 Session 1 Exercise",
      "provenance": [],
      "collapsed_sections": [],
      "authorship_tag": "ABX9TyNguxRHu2cj3rPsk/p0x32f",
      "include_colab_link": true
    },
    "kernelspec": {
      "name": "python3",
      "display_name": "Python 3"
    }
  },
  "cells": [
    {
      "cell_type": "markdown",
      "metadata": {
        "id": "view-in-github",
        "colab_type": "text"
      },
      "source": [
        "<a href=\"https://colab.research.google.com/github/kavya-077/Applications-of-python-programming-in-DA-and-ML-Research-perspective/blob/master/Day_2_Session_1_Exercise.ipynb\" target=\"_parent\"><img src=\"https://colab.research.google.com/assets/colab-badge.svg\" alt=\"Open In Colab\"/></a>"
      ]
    },
    {
      "cell_type": "markdown",
      "metadata": {
        "id": "WoGMqcILeeOX",
        "colab_type": "text"
      },
      "source": [
        "print multiples of 3 upto 200 using a list\n",
        "\n"
      ]
    },
    {
      "cell_type": "code",
      "metadata": {
        "id": "CTQAmFj4er9X",
        "colab_type": "code",
        "colab": {
          "base_uri": "https://localhost:8080/",
          "height": 54
        },
        "outputId": "82667c71-2d66-4354-ac1d-61ce24f9960d"
      },
      "source": [
        "def multiple(m, n): \n",
        "    a = range(n, (m * n)+1, n)   \n",
        "    print(*a)   \n",
        "m = 66\n",
        "n = 3\n",
        "multiple(m, n)"
      ],
      "execution_count": null,
      "outputs": [
        {
          "output_type": "stream",
          "text": [
            "3 6 9 12 15 18 21 24 27 30 33 36 39 42 45 48 51 54 57 60 63 66 69 72 75 78 81 84 87 90 93 96 99 102 105 108 111 114 117 120 123 126 129 132 135 138 141 144 147 150 153 156 159 162 165 168 171 174 177 180 183 186 189 192 195 198\n"
          ],
          "name": "stdout"
        }
      ]
    },
    {
      "cell_type": "markdown",
      "metadata": {
        "id": "-qp9leqxe5HI",
        "colab_type": "text"
      },
      "source": [
        "print the nos only divisable by 5 and 7 between 1000 and 2000 using a list( both inclusive)"
      ]
    },
    {
      "cell_type": "code",
      "metadata": {
        "id": "0zElwHk9e8Un",
        "colab_type": "code",
        "colab": {
          "base_uri": "https://localhost:8080/",
          "height": 34
        },
        "outputId": "580af941-ae56-44b9-d907-9de7162ca016"
      },
      "source": [
        "nl=[]\n",
        "for x in range(1000, 2000):\n",
        "    if (x%7==0) and (x%5==0):\n",
        "        nl.append(str(x))\n",
        "print (','.join(nl))\n"
      ],
      "execution_count": null,
      "outputs": [
        {
          "output_type": "stream",
          "text": [
            "1015,1050,1085,1120,1155,1190,1225,1260,1295,1330,1365,1400,1435,1470,1505,1540,1575,1610,1645,1680,1715,1750,1785,1820,1855,1890,1925,1960,1995\n"
          ],
          "name": "stdout"
        }
      ]
    },
    {
      "cell_type": "markdown",
      "metadata": {
        "id": "y7OANmdGfArQ",
        "colab_type": "text"
      },
      "source": [
        "Add the n number of names in a list and print them alphabetically and reverse alphabetically."
      ]
    },
    {
      "cell_type": "code",
      "metadata": {
        "id": "jCpC4nlPfEPC",
        "colab_type": "code",
        "colab": {
          "base_uri": "https://localhost:8080/",
          "height": 170
        },
        "outputId": "9f690f95-5eed-4c61-97cc-6964e60ccf9f"
      },
      "source": [
        "locations = list(input().split())\n",
        "\n",
        "print(\"Original order:\")\n",
        "print(locations)\n",
        "\n",
        "print(\"\\nAlphabetical:\")\n",
        "print(sorted(locations))\n",
        "print(\"\\nReverse alphabetical:\")\n",
        "print(sorted(locations, reverse=True))"
      ],
      "execution_count": null,
      "outputs": [
        {
          "output_type": "stream",
          "text": [
            "kavya divya bavya navya shravya \n",
            "Original order:\n",
            "['kavya', 'divya', 'bavya', 'navya', 'shravya']\n",
            "\n",
            "Alphabetical:\n",
            "['bavya', 'divya', 'kavya', 'navya', 'shravya']\n",
            "\n",
            "Reverse alphabetical:\n",
            "['shravya', 'navya', 'kavya', 'divya', 'bavya']\n"
          ],
          "name": "stdout"
        }
      ]
    },
    {
      "cell_type": "markdown",
      "metadata": {
        "id": "DTnU8Z6dfSoI",
        "colab_type": "text"
      },
      "source": [
        "Print  perfect squares and divisible by 5 between 500 and 1000( (both inclusive) using list"
      ]
    },
    {
      "cell_type": "code",
      "metadata": {
        "id": "f6BFuET6fVdw",
        "colab_type": "code",
        "colab": {
          "base_uri": "https://localhost:8080/",
          "height": 476
        },
        "outputId": "af2c76bd-5e07-4efc-aec6-2c0cff7d1e02"
      },
      "source": [
        "lower=int(input(\"Enter lower range limit:\"))\n",
        "upper=int(input(\"Enter upper range limit:\"))\n",
        "n=int(input(\"Enter the number to be divided by:\"))\n",
        "for i in range(lower,upper+1):\n",
        "    if(i%n==0):\n",
        "        print(i)"
      ],
      "execution_count": null,
      "outputs": [
        {
          "output_type": "stream",
          "text": [
            "Enter lower range limit:225\n",
            "Enter upper range limit:343\n",
            "Enter the number to be divided by:5\n",
            "225\n",
            "230\n",
            "235\n",
            "240\n",
            "245\n",
            "250\n",
            "255\n",
            "260\n",
            "265\n",
            "270\n",
            "275\n",
            "280\n",
            "285\n",
            "290\n",
            "295\n",
            "300\n",
            "305\n",
            "310\n",
            "315\n",
            "320\n",
            "325\n",
            "330\n",
            "335\n",
            "340\n"
          ],
          "name": "stdout"
        }
      ]
    },
    {
      "cell_type": "markdown",
      "metadata": {
        "id": "hJjjCmm3fqKN",
        "colab_type": "text"
      },
      "source": [
        "Get  a string and store word by word as elements in a tuple and find the largest word in the  tuple and print it"
      ]
    },
    {
      "cell_type": "code",
      "metadata": {
        "id": "6g_Y2TOCfx-C",
        "colab_type": "code",
        "colab": {
          "base_uri": "https://localhost:8080/",
          "height": 238
        },
        "outputId": "a1cb2481-7b88-457e-f49a-1216bcdc6ae0"
      },
      "source": [
        "a=[]\n",
        "n= int(input(\"Enter the number of elements in list:\"))\n",
        "for x in range(0,n):\n",
        "    element=input(\"Enter element\" + str(x+1) + \":\")\n",
        "    a.append(element)\n",
        "max1=len(a[0])\n",
        "temp=a[0]\n",
        "for i in a:\n",
        "    if(len(i)>max1):\n",
        "       max1=len(i)\n",
        "       temp=i\n",
        "print(\"The word with the longest length is:\")\n",
        "print(temp)"
      ],
      "execution_count": null,
      "outputs": [
        {
          "output_type": "stream",
          "text": [
            "Enter the number of elements in list:10\n",
            "Enter element1:2\n",
            "Enter element2:3\n",
            "Enter element3:4\n",
            "Enter element4:\n",
            "Enter element5:5\n",
            "Enter element6:6\n",
            "Enter element7:7\n",
            "Enter element8:8\n",
            "Enter element9:9\n",
            "Enter element10:1\n",
            "The word with the longest length is:\n",
            "2\n"
          ],
          "name": "stdout"
        }
      ]
    },
    {
      "cell_type": "markdown",
      "metadata": {
        "id": "AA23BH9uf7C4",
        "colab_type": "text"
      },
      "source": [
        "Get rollno and marks (Rollno, mark) as list of tuples for n number of students through keyboard  and print them in marks descending order with rollno."
      ]
    },
    {
      "cell_type": "code",
      "metadata": {
        "id": "w6MJfNavf_mT",
        "colab_type": "code",
        "colab": {
          "base_uri": "https://localhost:8080/",
          "height": 221
        },
        "outputId": "3742d2b4-a3c7-4376-9b0c-4693eb18e71b"
      },
      "source": [
        "print(sorted([(input(\"Enter rollno: \"), input(\"Enter marks: \")) for i in range(int(input(\"Enter number of students\")))], key=lambda x: x[1],reverse=True))"
      ],
      "execution_count": null,
      "outputs": [
        {
          "output_type": "stream",
          "text": [
            "Enter number of students5\n",
            "Enter rollno: 1\n",
            "Enter marks: 23\n",
            "Enter rollno: 2\n",
            "Enter marks: 34\n",
            "Enter rollno: 3\n",
            "Enter marks: 55\n",
            "Enter rollno: 6\n",
            "Enter marks: 34\n",
            "Enter rollno: 5\n",
            "Enter marks: 67\n",
            "[('5', '67'), ('3', '55'), ('2', '34'), ('6', '34'), ('1', '23')]\n"
          ],
          "name": "stdout"
        }
      ]
    },
    {
      "cell_type": "markdown",
      "metadata": {
        "id": "Ay2svzjRggFB",
        "colab_type": "text"
      },
      "source": [
        "Get name and salary (name, salary) as list of tuples for n number of employees through keyboard  and print them in name alphabetical order with salary"
      ]
    },
    {
      "cell_type": "code",
      "metadata": {
        "id": "EFhGZ6xcgjf2",
        "colab_type": "code",
        "colab": {
          "base_uri": "https://localhost:8080/",
          "height": 119
        },
        "outputId": "93fb4218-abcf-4f12-d448-32417da8a712"
      },
      "source": [
        "print(sorted([(input(\"Enter name: \"), input(\"Enter salary: \")) for i in range(int(input(\"Enter number of employees\")))], key=lambda x: x[0]))"
      ],
      "execution_count": null,
      "outputs": [
        {
          "output_type": "stream",
          "text": [
            "Enter number of employees2\n",
            "Enter name: kavya\n",
            "Enter salary: 1000000\n",
            "Enter name: divya\n",
            "Enter salary: 12345678\n",
            "[('divya', '12345678'), ('kavya', '1000000')]\n"
          ],
          "name": "stdout"
        }
      ]
    }
  ]
}